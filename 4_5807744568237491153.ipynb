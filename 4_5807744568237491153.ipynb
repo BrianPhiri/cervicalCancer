{
 "cells": [
  {
   "cell_type": "code",
   "execution_count": 1,
   "metadata": {
    "collapsed": true
   },
   "outputs": [],
   "source": [
    "import pandas as pd"
   ]
  },
  {
   "cell_type": "code",
   "execution_count": 2,
   "metadata": {
    "collapsed": true
   },
   "outputs": [],
   "source": [
    "from sklearn.svm import LinearSVC"
   ]
  },
  {
   "cell_type": "code",
   "execution_count": 3,
   "metadata": {
    "collapsed": true
   },
   "outputs": [],
   "source": [
    "dataset = pd.read_csv('breast-cancer-wisconsin.csv')"
   ]
  },
  {
   "cell_type": "code",
   "execution_count": 4,
   "metadata": {},
   "outputs": [
    {
     "data": {
      "text/html": [
       "<div>\n",
       "<style>\n",
       "    .dataframe thead tr:only-child th {\n",
       "        text-align: right;\n",
       "    }\n",
       "\n",
       "    .dataframe thead th {\n",
       "        text-align: left;\n",
       "    }\n",
       "\n",
       "    .dataframe tbody tr th {\n",
       "        vertical-align: top;\n",
       "    }\n",
       "</style>\n",
       "<table border=\"1\" class=\"dataframe\">\n",
       "  <thead>\n",
       "    <tr style=\"text-align: right;\">\n",
       "      <th></th>\n",
       "      <th>sample code number</th>\n",
       "      <th>clump thickness</th>\n",
       "      <th>uniformity of cell size</th>\n",
       "      <th>uniformity of cell shape</th>\n",
       "      <th>marginal adhesion</th>\n",
       "      <th>single epithelial cell size</th>\n",
       "      <th>bare nuclei</th>\n",
       "      <th>bland chromatin</th>\n",
       "      <th>normal nucleoli</th>\n",
       "      <th>mitoses</th>\n",
       "      <th>status</th>\n",
       "    </tr>\n",
       "  </thead>\n",
       "  <tbody>\n",
       "    <tr>\n",
       "      <th>0</th>\n",
       "      <td>1000025</td>\n",
       "      <td>5</td>\n",
       "      <td>1</td>\n",
       "      <td>1</td>\n",
       "      <td>1</td>\n",
       "      <td>2</td>\n",
       "      <td>1</td>\n",
       "      <td>3</td>\n",
       "      <td>1</td>\n",
       "      <td>1</td>\n",
       "      <td>2</td>\n",
       "    </tr>\n",
       "    <tr>\n",
       "      <th>1</th>\n",
       "      <td>1017023</td>\n",
       "      <td>4</td>\n",
       "      <td>1</td>\n",
       "      <td>1</td>\n",
       "      <td>3</td>\n",
       "      <td>2</td>\n",
       "      <td>1</td>\n",
       "      <td>3</td>\n",
       "      <td>1</td>\n",
       "      <td>1</td>\n",
       "      <td>2</td>\n",
       "    </tr>\n",
       "    <tr>\n",
       "      <th>2</th>\n",
       "      <td>1018561</td>\n",
       "      <td>2</td>\n",
       "      <td>1</td>\n",
       "      <td>2</td>\n",
       "      <td>1</td>\n",
       "      <td>2</td>\n",
       "      <td>1</td>\n",
       "      <td>3</td>\n",
       "      <td>1</td>\n",
       "      <td>1</td>\n",
       "      <td>2</td>\n",
       "    </tr>\n",
       "    <tr>\n",
       "      <th>3</th>\n",
       "      <td>1033078</td>\n",
       "      <td>2</td>\n",
       "      <td>1</td>\n",
       "      <td>1</td>\n",
       "      <td>1</td>\n",
       "      <td>2</td>\n",
       "      <td>1</td>\n",
       "      <td>1</td>\n",
       "      <td>1</td>\n",
       "      <td>5</td>\n",
       "      <td>2</td>\n",
       "    </tr>\n",
       "    <tr>\n",
       "      <th>4</th>\n",
       "      <td>1033078</td>\n",
       "      <td>4</td>\n",
       "      <td>2</td>\n",
       "      <td>1</td>\n",
       "      <td>1</td>\n",
       "      <td>2</td>\n",
       "      <td>1</td>\n",
       "      <td>2</td>\n",
       "      <td>1</td>\n",
       "      <td>1</td>\n",
       "      <td>2</td>\n",
       "    </tr>\n",
       "  </tbody>\n",
       "</table>\n",
       "</div>"
      ],
      "text/plain": [
       "   sample code number  clump thickness  uniformity of cell size  \\\n",
       "0             1000025                5                        1   \n",
       "1             1017023                4                        1   \n",
       "2             1018561                2                        1   \n",
       "3             1033078                2                        1   \n",
       "4             1033078                4                        2   \n",
       "\n",
       "   uniformity of cell shape  marginal adhesion  single epithelial cell size  \\\n",
       "0                         1                  1                            2   \n",
       "1                         1                  3                            2   \n",
       "2                         2                  1                            2   \n",
       "3                         1                  1                            2   \n",
       "4                         1                  1                            2   \n",
       "\n",
       "   bare nuclei  bland chromatin  normal nucleoli  mitoses  status  \n",
       "0            1                3                1        1       2  \n",
       "1            1                3                1        1       2  \n",
       "2            1                3                1        1       2  \n",
       "3            1                1                1        5       2  \n",
       "4            1                2                1        1       2  "
      ]
     },
     "execution_count": 4,
     "metadata": {},
     "output_type": "execute_result"
    }
   ],
   "source": [
    "dataset.head()"
   ]
  },
  {
   "cell_type": "code",
   "execution_count": 5,
   "metadata": {
    "collapsed": true
   },
   "outputs": [],
   "source": [
    "from sklearn.svm import LinearSVC"
   ]
  },
  {
   "cell_type": "code",
   "execution_count": 6,
   "metadata": {
    "collapsed": true
   },
   "outputs": [],
   "source": [
    "from sklearn.model_selection import train_test_split\n"
   ]
  },
  {
   "cell_type": "code",
   "execution_count": 7,
   "metadata": {
    "collapsed": true
   },
   "outputs": [],
   "source": [
    "train_set, test_set = train_test_split(dataset)"
   ]
  },
  {
   "cell_type": "code",
   "execution_count": 8,
   "metadata": {},
   "outputs": [
    {
     "name": "stdout",
     "output_type": "stream",
     "text": [
      "Index(['sample code number', 'clump thickness', 'uniformity of cell size',\n",
      "       'uniformity of cell shape', 'marginal adhesion',\n",
      "       'single epithelial cell size', 'bare nuclei', 'bland chromatin',\n",
      "       'normal nucleoli', 'mitoses', 'status'],\n",
      "      dtype='object')\n"
     ]
    }
   ],
   "source": [
    "print(dataset.columns)"
   ]
  },
  {
   "cell_type": "code",
   "execution_count": 9,
   "metadata": {},
   "outputs": [
    {
     "name": "stdout",
     "output_type": "stream",
     "text": [
      "(512, 11)\n"
     ]
    }
   ],
   "source": [
    "print(train_set.shape)"
   ]
  },
  {
   "cell_type": "code",
   "execution_count": 10,
   "metadata": {},
   "outputs": [
    {
     "name": "stdout",
     "output_type": "stream",
     "text": [
      "(171, 11)\n"
     ]
    }
   ],
   "source": [
    "print(test_set.shape)"
   ]
  },
  {
   "cell_type": "code",
   "execution_count": 11,
   "metadata": {},
   "outputs": [
    {
     "name": "stdout",
     "output_type": "stream",
     "text": [
      "(683, 11)\n"
     ]
    }
   ],
   "source": [
    "print(dataset.shape)"
   ]
  },
  {
   "cell_type": "code",
   "execution_count": 12,
   "metadata": {
    "collapsed": true
   },
   "outputs": [],
   "source": [
    "features = ['sample code number','clump thickness','uniformity of cell size','uniformity of cell shape',\n",
    "                   'marginal adhesion','single epithelial cell size', 'bare nuclei', 'bland chromatin',\n",
    "                   'normal nucleoli', 'mitoses']"
   ]
  },
  {
   "cell_type": "code",
   "execution_count": 13,
   "metadata": {
    "collapsed": true
   },
   "outputs": [],
   "source": [
    "target = ['status']"
   ]
  },
  {
   "cell_type": "code",
   "execution_count": 14,
   "metadata": {
    "collapsed": true
   },
   "outputs": [],
   "source": [
    "clfsvc = LinearSVC(random_state=0)"
   ]
  },
  {
   "cell_type": "code",
   "execution_count": 15,
   "metadata": {},
   "outputs": [
    {
     "name": "stdout",
     "output_type": "stream",
     "text": [
      "     status\n",
      "223       2\n",
      "362       2\n",
      "13        2\n",
      "426       4\n",
      "141       2\n",
      "262       2\n",
      "563       4\n",
      "360       2\n",
      "278       2\n",
      "392       2\n",
      "481       4\n",
      "564       4\n",
      "419       2\n",
      "327       2\n",
      "398       2\n",
      "81        2\n",
      "565       4\n",
      "582       4\n",
      "484       2\n",
      "330       2\n",
      "130       2\n",
      "127       2\n",
      "293       2\n",
      "12        2\n",
      "652       4\n",
      "361       2\n",
      "176       2\n",
      "192       2\n",
      "604       4\n",
      "676       4\n",
      "..      ...\n",
      "214       2\n",
      "31        2\n",
      "633       4\n",
      "448       2\n",
      "407       4\n",
      "430       4\n",
      "260       2\n",
      "591       4\n",
      "491       4\n",
      "337       2\n",
      "490       4\n",
      "79        2\n",
      "209       2\n",
      "40        2\n",
      "83        2\n",
      "555       4\n",
      "673       4\n",
      "434       4\n",
      "441       2\n",
      "344       2\n",
      "415       2\n",
      "131       2\n",
      "228       2\n",
      "356       2\n",
      "469       4\n",
      "601       2\n",
      "568       4\n",
      "4         2\n",
      "267       2\n",
      "97        2\n",
      "\n",
      "[512 rows x 1 columns]\n"
     ]
    }
   ],
   "source": [
    "print(train_set[target])"
   ]
  },
  {
   "cell_type": "code",
   "execution_count": 16,
   "metadata": {},
   "outputs": [
    {
     "data": {
      "text/plain": [
       "LinearSVC(C=1.0, class_weight=None, dual=True, fit_intercept=True,\n",
       "     intercept_scaling=1, loss='squared_hinge', max_iter=1000,\n",
       "     multi_class='ovr', penalty='l2', random_state=0, tol=0.0001,\n",
       "     verbose=0)"
      ]
     },
     "execution_count": 16,
     "metadata": {},
     "output_type": "execute_result"
    }
   ],
   "source": [
    "clfsvc.fit(train_set[features],train_set.status)\n"
   ]
  },
  {
   "cell_type": "code",
   "execution_count": 17,
   "metadata": {
    "collapsed": true
   },
   "outputs": [],
   "source": [
    "test_results_svc = clfsvc.predict(test_set[features])"
   ]
  },
  {
   "cell_type": "code",
   "execution_count": 18,
   "metadata": {},
   "outputs": [
    {
     "name": "stdout",
     "output_type": "stream",
     "text": [
      "[2 2 2 2 2 2 2 2 2 2 2 2 2 2 2 2 2 2 2 2 2 2 2 2 2 2 2 2 2 2 2 2 2 2 2 2 2\n",
      " 2 2 2 2 2 2 2 2 2 2 2 2 2 2 2 2 2 2 2 2 2 2 2 2 2 2 2 2 2 2 2 2 2 2 2 2 2\n",
      " 2 2 2 2 2 2 2 2 2 2 2 2 2 2 2 2 2 2 2 2 2 2 2 2 2 2 2 2 2 2 2 2 2 2 2 2 2\n",
      " 2 2 2 2 2 2 2 2 2 2 2 2 2 2 2 2 2 2 2 2 2 2 2 2 2 2 2 2 2 2 2 2 2 2 2 2 2\n",
      " 2 2 2 2 2 2 2 2 2 2 2 2 2 2 2 2 2 2 2 2 2 2 2]\n"
     ]
    }
   ],
   "source": [
    "print(test_results_svc)"
   ]
  },
  {
   "cell_type": "code",
   "execution_count": 19,
   "metadata": {
    "collapsed": true
   },
   "outputs": [],
   "source": [
    "from sklearn.metrics import accuracy_score"
   ]
  },
  {
   "cell_type": "code",
   "execution_count": 20,
   "metadata": {},
   "outputs": [
    {
     "data": {
      "text/plain": [
       "0.7192982456140351"
      ]
     },
     "execution_count": 20,
     "metadata": {},
     "output_type": "execute_result"
    }
   ],
   "source": [
    "accuracy_score(test_results_svc, test_set[target])"
   ]
  },
  {
   "cell_type": "code",
   "execution_count": 21,
   "metadata": {
    "collapsed": true
   },
   "outputs": [],
   "source": [
    "from sklearn.neighbors import KNeighborsClassifier"
   ]
  },
  {
   "cell_type": "code",
   "execution_count": 22,
   "metadata": {
    "collapsed": true
   },
   "outputs": [],
   "source": [
    "clfknn = KNeighborsClassifier(n_neighbors=11)"
   ]
  },
  {
   "cell_type": "code",
   "execution_count": 23,
   "metadata": {},
   "outputs": [
    {
     "data": {
      "text/plain": [
       "KNeighborsClassifier(algorithm='auto', leaf_size=30, metric='minkowski',\n",
       "           metric_params=None, n_jobs=1, n_neighbors=11, p=2,\n",
       "           weights='uniform')"
      ]
     },
     "execution_count": 23,
     "metadata": {},
     "output_type": "execute_result"
    }
   ],
   "source": [
    "clfknn.fit(train_set[features],train_set.status)"
   ]
  },
  {
   "cell_type": "code",
   "execution_count": 24,
   "metadata": {
    "collapsed": true
   },
   "outputs": [],
   "source": [
    "test_results_knn = clfknn.predict(test_set[features])"
   ]
  },
  {
   "cell_type": "code",
   "execution_count": 25,
   "metadata": {},
   "outputs": [
    {
     "name": "stdout",
     "output_type": "stream",
     "text": [
      "[2 2 2 2 2 2 2 2 2 4 2 2 2 2 2 2 4 4 2 2 2 2 2 4 2 2 4 2 2 2 4 4 2 2 2 2 2\n",
      " 4 4 2 2 2 2 4 2 2 2 2 4 2 4 2 2 4 2 2 4 2 2 2 4 2 2 4 4 4 4 2 2 2 2 2 4 4\n",
      " 2 2 2 2 2 2 2 2 2 2 2 4 2 2 4 2 2 2 2 4 2 4 2 2 2 2 2 4 4 2 4 4 2 4 4 2 2\n",
      " 2 2 4 2 2 2 4 2 2 2 2 2 2 2 4 2 4 2 2 2 2 2 4 2 2 4 4 4 2 2 2 2 2 4 2 2 2\n",
      " 4 2 4 2 4 4 2 2 4 2 2 2 2 2 2 4 2 2 2 4 2 2 4]\n"
     ]
    }
   ],
   "source": [
    "print(test_results_knn)"
   ]
  },
  {
   "cell_type": "code",
   "execution_count": 26,
   "metadata": {},
   "outputs": [
    {
     "data": {
      "text/plain": [
       "0.67251461988304095"
      ]
     },
     "execution_count": 26,
     "metadata": {},
     "output_type": "execute_result"
    }
   ],
   "source": [
    "accuracy_score(test_results_knn, test_set[target])"
   ]
  },
  {
   "cell_type": "code",
   "execution_count": 27,
   "metadata": {
    "collapsed": true
   },
   "outputs": [],
   "source": [
    "from sklearn.ensemble import RandomForestClassifier"
   ]
  },
  {
   "cell_type": "code",
   "execution_count": 28,
   "metadata": {
    "collapsed": true
   },
   "outputs": [],
   "source": [
    "clfrfc = RandomForestClassifier(max_depth=2, random_state=0)"
   ]
  },
  {
   "cell_type": "code",
   "execution_count": 29,
   "metadata": {},
   "outputs": [
    {
     "data": {
      "text/plain": [
       "RandomForestClassifier(bootstrap=True, class_weight=None, criterion='gini',\n",
       "            max_depth=2, max_features='auto', max_leaf_nodes=None,\n",
       "            min_impurity_decrease=0.0, min_impurity_split=None,\n",
       "            min_samples_leaf=1, min_samples_split=2,\n",
       "            min_weight_fraction_leaf=0.0, n_estimators=10, n_jobs=1,\n",
       "            oob_score=False, random_state=0, verbose=0, warm_start=False)"
      ]
     },
     "execution_count": 29,
     "metadata": {},
     "output_type": "execute_result"
    }
   ],
   "source": [
    "clfrfc.fit(train_set[features],train_set.status)"
   ]
  },
  {
   "cell_type": "code",
   "execution_count": 30,
   "metadata": {
    "collapsed": true
   },
   "outputs": [],
   "source": [
    "test_results_rfc = clfrfc.predict(test_set[features])"
   ]
  },
  {
   "cell_type": "code",
   "execution_count": 31,
   "metadata": {},
   "outputs": [
    {
     "name": "stdout",
     "output_type": "stream",
     "text": [
      "[2 2 2 4 4 2 2 2 2 4 2 2 4 4 2 2 2 4 2 2 2 2 4 4 2 2 2 2 4 2 4 4 2 2 4 2 2\n",
      " 2 2 2 4 2 2 2 2 2 2 2 2 4 4 4 2 4 2 2 4 2 2 4 4 4 2 2 2 2 4 2 2 2 2 4 2 4\n",
      " 2 2 2 2 2 2 2 4 2 2 4 4 2 4 2 2 2 4 2 2 2 4 4 2 2 4 2 4 2 2 4 2 2 2 2 2 2\n",
      " 4 2 2 2 4 2 2 4 2 2 4 2 4 2 4 2 2 2 2 2 2 4 2 2 2 2 4 4 2 2 4 2 2 2 2 2 4\n",
      " 2 4 4 2 2 4 2 4 2 2 2 2 2 2 2 2 2 2 2 4 4 4 4]\n"
     ]
    }
   ],
   "source": [
    "print(test_results_rfc)"
   ]
  },
  {
   "cell_type": "code",
   "execution_count": 32,
   "metadata": {},
   "outputs": [
    {
     "data": {
      "text/plain": [
       "0.95906432748538006"
      ]
     },
     "execution_count": 32,
     "metadata": {},
     "output_type": "execute_result"
    }
   ],
   "source": [
    "accuracy_score(test_results_rfc, test_set[target])"
   ]
  },
  {
   "cell_type": "code",
   "execution_count": 33,
   "metadata": {
    "collapsed": true
   },
   "outputs": [],
   "source": [
    "from sklearn import metrics\n",
    "\n"
   ]
  },
  {
   "cell_type": "code",
   "execution_count": 34,
   "metadata": {
    "collapsed": true
   },
   "outputs": [],
   "source": [
    "from sklearn.metrics import roc_curve, auc"
   ]
  },
  {
   "cell_type": "code",
   "execution_count": 35,
   "metadata": {
    "collapsed": true
   },
   "outputs": [],
   "source": [
    "fpr = dict()"
   ]
  },
  {
   "cell_type": "code",
   "execution_count": 36,
   "metadata": {
    "collapsed": true
   },
   "outputs": [],
   "source": [
    "tpr = dict()"
   ]
  },
  {
   "cell_type": "code",
   "execution_count": 37,
   "metadata": {
    "collapsed": true
   },
   "outputs": [],
   "source": [
    "roc_auc = dict()"
   ]
  },
  {
   "cell_type": "code",
   "execution_count": 59,
   "metadata": {
    "collapsed": true
   },
   "outputs": [],
   "source": [
    "y_test = test_set[target]"
   ]
  },
  {
   "cell_type": "code",
   "execution_count": 117,
   "metadata": {
    "collapsed": true
   },
   "outputs": [],
   "source": [
    "y_score_rfc = test_results_rfc\n",
    "y_score_knn = test_results_knn\n",
    "y_score_svc = test_results_svc"
   ]
  },
  {
   "cell_type": "code",
   "execution_count": 106,
   "metadata": {
    "collapsed": true
   },
   "outputs": [],
   "source": [
    "from sklearn.model_selection import cross_val_score"
   ]
  },
  {
   "cell_type": "code",
   "execution_count": 119,
   "metadata": {
    "collapsed": true
   },
   "outputs": [],
   "source": [
    "score_rfc = cross_val_score(clfrfc,dataset[features],dataset.status,cv=10)\n",
    "score_knn = cross_val_score(clfknn,dataset[features],dataset.status,cv=10)\n",
    "score_svc = cross_val_score(clfsvc,dataset[features],dataset.status,cv=10)"
   ]
  },
  {
   "cell_type": "code",
   "execution_count": 124,
   "metadata": {},
   "outputs": [
    {
     "name": "stdout",
     "output_type": "stream",
     "text": [
      "RFC [ 0.65217391  0.88405797  0.92753623  0.95652174  1.          1.          1.\n",
      "  0.98529412  0.98529412  0.46268657]\n",
      "KNN [ 0.53623188  0.42028986  0.55072464  0.44927536  0.60294118  0.45588235\n",
      "  0.64705882  0.64705882  0.44117647  0.58208955]\n",
      "SVC [ 0.34782609  0.34782609  0.34782609  0.34782609  0.64705882  0.35294118\n",
      "  0.35294118  0.35294118  0.64705882  0.34328358]\n"
     ]
    }
   ],
   "source": [
    "print('RFC',score_rfc)\n",
    "print('KNN',score_knn)\n",
    "print('SVC',score_svc)"
   ]
  },
  {
   "cell_type": "code",
   "execution_count": 109,
   "metadata": {
    "collapsed": true
   },
   "outputs": [],
   "source": [
    "from sklearn.metrics import roc_curve\n",
    "from sklearn.metrics import auc\n",
    "from sklearn.preprocessing import binarize"
   ]
  },
  {
   "cell_type": "code",
   "execution_count": 137,
   "metadata": {},
   "outputs": [],
   "source": [
    "y_test_bin = binarize(y_test,3)\n"
   ]
  },
  {
   "cell_type": "code",
   "execution_count": 138,
   "metadata": {},
   "outputs": [
    {
     "name": "stdout",
     "output_type": "stream",
     "text": [
      "[2 2 2 4 4 2 2 2 2 4 2 2 4 4 2 2 2 4 2 2 2 2 4 4 2 2 2 2 4 2 4 4 2 2 4 2 2\n",
      " 2 2 2 4 2 2 2 2 2 2 2 2 4 4 4 2 4 2 2 4 2 2 4 4 4 2 2 2 2 4 2 2 2 2 4 2 4\n",
      " 2 2 2 2 2 2 2 4 2 2 4 4 2 4 2 2 2 4 2 2 2 4 4 2 2 4 2 4 2 2 4 2 2 2 2 2 2\n",
      " 4 2 2 2 4 2 2 4 2 2 4 2 4 2 4 2 2 2 2 2 2 4 2 2 2 2 4 4 2 2 4 2 2 2 2 2 4\n",
      " 2 4 4 2 2 4 2 4 2 2 2 2 2 2 2 2 2 2 2 4 4 4 4]\n"
     ]
    }
   ],
   "source": [
    "print(y_score_rfc)"
   ]
  },
  {
   "cell_type": "code",
   "execution_count": 139,
   "metadata": {},
   "outputs": [],
   "source": [
    "y_score_temp_rfc = y_score_rfc.reshape(-1, 1)\n",
    "y_score_temp_knn = y_score_knn.reshape(-1, 1)\n",
    "y_score_temp_svc = y_score_svc.reshape(-1, 1)"
   ]
  },
  {
   "cell_type": "code",
   "execution_count": 157,
   "metadata": {},
   "outputs": [],
   "source": [
    "y_score_bin_rfc = binarize (y_score_temp_rfc,3)\n",
    "y_score_bin_knn = binarize (y_score_temp_knn,3)\n",
    "y_score_bin_svc = binarize (y_score_temp_svc,3)"
   ]
  },
  {
   "cell_type": "code",
   "execution_count": 167,
   "metadata": {},
   "outputs": [],
   "source": [
    "fpr_rfc, tpr_rfc, thresholds = roc_curve(y_test_bin, y_score_bin_rfc)\n",
    "fpr_knn, tpr_knn, thresholds = roc_curve(y_test_bin, y_score_bin_knn)\n",
    "fpr_svc, tpr_svc, thresholds = roc_curve(y_test_bin, y_score_bin_svc)"
   ]
  },
  {
   "cell_type": "code",
   "execution_count": 168,
   "metadata": {},
   "outputs": [],
   "source": [
    "roc_auc_rfc = auc(y_test_bin, y_score_bin_rfc,True)\n",
    "roc_auc_knn = auc(y_test_bin, y_score_bin_knn,True)\n",
    "roc_auc_svc = auc(y_test_bin, y_score_bin_svc,True)"
   ]
  },
  {
   "cell_type": "code",
   "execution_count": null,
   "metadata": {},
   "outputs": [],
   "source": []
  },
  {
   "cell_type": "code",
   "execution_count": 170,
   "metadata": {},
   "outputs": [
    {
     "data": {
      "text/plain": [
       "<matplotlib.legend.Legend at 0x248e76fc588>"
      ]
     },
     "execution_count": 170,
     "metadata": {},
     "output_type": "execute_result"
    },
    {
     "data": {
      "image/png": "[encoded data removed]",
      "text/plain": [
       "<matplotlib.figure.Figure at 0x248e76205c0>"
      ]
     },
     "metadata": {},
     "output_type": "display_data"
    }
   ],
   "source": [
    "%matplotlib inline\n",
    "import matplotlib.pyplot as plt\n",
    "plt.plot(fpr_rfc, tpr_rfc, label='ROC curve (area = %0.3f)' % roc_auc_rfc)\n",
    "plt.plot(fpr_knn, tpr_knn, label='ROC curve (area = %0.3f)' % roc_auc_knn)\n",
    "plt.plot(fpr_svc, tpr_svc, label='ROC curve (area = %0.3f)' % roc_auc_svc)\n",
    "plt.plot([0, 1], [0, 1], 'k--')  # random predictions curve\n",
    "plt.xlim([0.0, 1.0])\n",
    "plt.ylim([0.0, 1.0])\n",
    "plt.xlabel('False Positive Rate or (1 - Specifity)')\n",
    "plt.ylabel('True Positive Rate or (Sensitivity)')\n",
    "plt.title('Receiver Operating Characteristic')\n",
    "plt.legend(loc=\"lower right\")\n",
    "\n"
   ]
  },
  {
   "cell_type": "code",
   "execution_count": null,
   "metadata": {
    "collapsed": true
   },
   "outputs": [],
   "source": []
  }
 ],
 "metadata": {
  "kernelspec": {
   "display_name": "Python 3",
   "language": "python",
   "name": "python3"
  },
  "language_info": {
   "codemirror_mode": {
    "name": "ipython",
    "version": 3
   },
   "file_extension": ".py",
   "mimetype": "text/x-python",
   "name": "python",
   "nbconvert_exporter": "python",
   "pygments_lexer": "ipython3",
   "version": "3.6.2"
  }
 },
 "nbformat": 4,
 "nbformat_minor": 2
}
